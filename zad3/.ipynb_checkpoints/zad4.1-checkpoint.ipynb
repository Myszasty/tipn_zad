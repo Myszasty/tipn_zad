{
 "cells": [
  {
   "cell_type": "code",
   "execution_count": null,
   "metadata": {},
   "outputs": [],
   "source": [
    "zdanie = input(\"Podaj zdanie,proszę, pamiętając o interpunkcji:\")\n",
    "if zdanie[-1] == \".\":\n",
    "    print(\"Pewnie masz rację\")\n",
    "if zdanie[-1] == \"?\":\n",
    "    print(\"Nie wiem, nie znam się\")\n",
    "if zdanie[-1] == \"!\":\n",
    "    print(\"Nie krzycz! Słysze cię ciałkiem dobrze\")"
   ]
  },
  {
   "cell_type": "code",
   "execution_count": null,
   "metadata": {},
   "outputs": [],
   "source": []
  }
 ],
 "metadata": {
  "kernelspec": {
   "display_name": "Python 3",
   "language": "python",
   "name": "python3"
  },
  "language_info": {
   "codemirror_mode": {
    "name": "ipython",
    "version": 3
   },
   "file_extension": ".py",
   "mimetype": "text/x-python",
   "name": "python",
   "nbconvert_exporter": "python",
   "pygments_lexer": "ipython3",
   "version": "3.7.0"
  }
 },
 "nbformat": 4,
 "nbformat_minor": 2
}
