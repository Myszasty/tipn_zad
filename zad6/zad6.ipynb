{
 "cells": [
  {
   "cell_type": "code",
   "execution_count": 1,
   "metadata": {},
   "outputs": [],
   "source": [
    "z = \"Czy uważasz, że rośliny i zwierzęta są fantastycznymi żyjątkami?\"\n",
    "x = \"Czy płaczesz na filmach?\"\n",
    "c = \"Czy uważasz się za geeka/nerda?\"\n",
    "v = \"Czy uwielbiasz sztukę i literaturę?\"\n",
    "b = \"Czy uważasz 'Nędzników' za najlepszy musical?\"\n",
    "n = \"Czy zgadzasz się, że Monty Python jest świetny i przyczynił się do ukierunkowania współczesnego humoru?\"\n",
    "punkty = []"
   ]
  },
  {
   "cell_type": "code",
   "execution_count": 2,
   "metadata": {},
   "outputs": [],
   "source": [
    "def test(os):\n",
    "\n",
    "    lista_pytan = [z, x, c, v, b, n]\n",
    "    \n",
    "def zadaj_pytanie(z):\n",
    "        \n",
    "    print(z)\n",
    "    zx = input(\"1 oznacza zupełnie się nie zgadzam, a 5 oznacza całkowicie się zgadzam:\")\n",
    "    zx = int(zx)\n",
    "    if zx>5 or zx<1:\n",
    "        print(\"BZZZT! ŹLE. NIE OSZUKUJ SYSTEMU. ZACZNIJ OD NOWA. WRR.\")\n",
    "    else:\n",
    "        return zx"
   ]
  },
  {
   "cell_type": "code",
   "execution_count": null,
   "metadata": {},
   "outputs": [
    {
     "name": "stdout",
     "output_type": "stream",
     "text": [
      "Czy uważasz, że rośliny i zwierzęta są fantastycznymi żyjątkami?\n"
     ]
    },
    {
     "name": "stdin",
     "output_type": "stream",
     "text": [
      "1 oznacza zupełnie się nie zgadzam, a 5 oznacza całkowicie się zgadzam: 3\n"
     ]
    },
    {
     "name": "stdout",
     "output_type": "stream",
     "text": [
      "Czy płaczesz na filmach?\n"
     ]
    },
    {
     "name": "stdin",
     "output_type": "stream",
     "text": [
      "1 oznacza zupełnie się nie zgadzam, a 5 oznacza całkowicie się zgadzam: 3\n"
     ]
    },
    {
     "name": "stdout",
     "output_type": "stream",
     "text": [
      "Czy uważasz się za geeka/nerda?\n"
     ]
    }
   ],
   "source": [
    "pkt = zadaj_pytanie(z)\n",
    "punkty.append(pkt)\n",
    "pkt = zadaj_pytanie(x)\n",
    "punkty.append(pkt)\n",
    "pkt = zadaj_pytanie(c)\n",
    "punkty.append(pkt)\n",
    "pkt = zadaj_pytanie(v)\n",
    "punkty.append(pkt)\n",
    "pkt = zadaj_pytanie(b)\n",
    "punkty.append(pkt)\n",
    "pkt = zadaj_pytanie(n)\n",
    "punkty.append(pkt)\n",
    "wynik = sum(punkty)\n",
    "wynik = int(wynik)\n",
    "if wynik > 5 and wynik < 10:\n",
    "    print(\"Twój wynik to\", wynik, \".\", \"Oh nie! Jesteś upośledzony!\")\n",
    "elif wynik == 5:\n",
    "    print(\"Twój wynik to\", wynik, \".\", \"Mogło być gorzej... I guess.\")\n",
    "elif wynik >= 10 and wynik < 15:\n",
    "    print(\"Twój wynik to\", wynik, \".\", \"Mogło być lepiej... I guess.\")\n",
    "elif wynik >= 15 and wynik < 20:\n",
    "    print(\"Twój wynik to\", wynik, \".\", \"Uhuhu, prawie się zakochałem.\")\n",
    "elif wynik >=20 and wynik < 25:\n",
    "    print(\"Twój wynik to\", wynik, \".\", \"Can you feel the love tonight <3\")\n",
    "elif wynik == 25:\n",
    "    print(\"Twój wynik to\", wynik, \".\", \"Ohhh, me serce bije dla ciebie\")\n",
    "    \n",
    "if wynik > 0:\n",
    "    punkty.pop(0)\n",
    "    punkty.pop(0)\n",
    "    punkty.pop(0)\n",
    "    punkty.pop(0)\n",
    "    punkty.pop(0)\n",
    "else:\n",
    "    print(\"Dzięki za zrobienie testu, ziomeczku! Trzymaj się i miej fantastyczne życie\")"
   ]
  },
  {
   "cell_type": "code",
   "execution_count": null,
   "metadata": {},
   "outputs": [],
   "source": []
  }
 ],
 "metadata": {
  "kernelspec": {
   "display_name": "Python 3",
   "language": "python",
   "name": "python3"
  },
  "language_info": {
   "codemirror_mode": {
    "name": "ipython",
    "version": 3
   },
   "file_extension": ".py",
   "mimetype": "text/x-python",
   "name": "python",
   "nbconvert_exporter": "python",
   "pygments_lexer": "ipython3",
   "version": "3.7.0"
  }
 },
 "nbformat": 4,
 "nbformat_minor": 2
}
